{
 "cells": [
  {
   "cell_type": "code",
   "execution_count": 8,
   "metadata": {},
   "outputs": [],
   "source": [
    "#First, import proper libraries\n",
    "import pandas as pd\n",
    "import numpy as np\n",
    "import seaborn as sns\n",
    "import matplotlib.pyplot as plt\n",
    "import sklearn\n",
    "import os\n",
    "from sklearn.preprocessing import StandardScaler\n",
    "from sklearn.preprocessing import LabelEncoder\n",
    "from sklearn.linear_model import LogisticRegression\n",
    "from sklearn.model_selection import train_test_split\n",
    "from sklearn.metrics import classification_report"
   ]
  },
  {
   "cell_type": "code",
   "execution_count": 9,
   "metadata": {},
   "outputs": [
    {
     "data": {
      "text/plain": [
       "'/Users/kylecamlic'"
      ]
     },
     "execution_count": 9,
     "metadata": {},
     "output_type": "execute_result"
    }
   ],
   "source": [
    "%pwd"
   ]
  },
  {
   "cell_type": "code",
   "execution_count": 10,
   "metadata": {},
   "outputs": [
    {
     "data": {
      "text/plain": [
       "'/Users/kylecamlic/Documents'"
      ]
     },
     "execution_count": 10,
     "metadata": {},
     "output_type": "execute_result"
    }
   ],
   "source": [
    "os.chdir ('/Users/kylecamlic/Documents') #change working directory to the correct directory to analyze .csv files\n",
    "%pwd"
   ]
  },
  {
   "cell_type": "code",
   "execution_count": 11,
   "metadata": {},
   "outputs": [],
   "source": [
    "#lets define our two csv files\n",
    "df_train1 = pd.read_csv('train.csv')\n",
    "df_test1 = pd.read_csv('test.csv')"
   ]
  },
  {
   "cell_type": "code",
   "execution_count": 12,
   "metadata": {},
   "outputs": [
    {
     "data": {
      "text/html": [
       "<div>\n",
       "<style scoped>\n",
       "    .dataframe tbody tr th:only-of-type {\n",
       "        vertical-align: middle;\n",
       "    }\n",
       "\n",
       "    .dataframe tbody tr th {\n",
       "        vertical-align: top;\n",
       "    }\n",
       "\n",
       "    .dataframe thead th {\n",
       "        text-align: right;\n",
       "    }\n",
       "</style>\n",
       "<table border=\"1\" class=\"dataframe\">\n",
       "  <thead>\n",
       "    <tr style=\"text-align: right;\">\n",
       "      <th></th>\n",
       "      <th>last_purchase</th>\n",
       "      <th>max_discount</th>\n",
       "      <th>shoe_spend</th>\n",
       "      <th>apparell_spend</th>\n",
       "      <th>acc_spend</th>\n",
       "      <th>custserv_calls</th>\n",
       "      <th>churn</th>\n",
       "      <th>acc_purchasers</th>\n",
       "      <th>promo_purchaser</th>\n",
       "      <th>shoe_orders</th>\n",
       "      <th>apparel_orders</th>\n",
       "      <th>acc_orders</th>\n",
       "      <th>gender</th>\n",
       "      <th>ecommShopper</th>\n",
       "      <th>bhShopper</th>\n",
       "      <th>state</th>\n",
       "      <th>area_code</th>\n",
       "      <th>phone</th>\n",
       "    </tr>\n",
       "  </thead>\n",
       "  <tbody>\n",
       "    <tr>\n",
       "      <th>0</th>\n",
       "      <td>56.5</td>\n",
       "      <td>0.26</td>\n",
       "      <td>322.2</td>\n",
       "      <td>194.3</td>\n",
       "      <td>126</td>\n",
       "      <td>1</td>\n",
       "      <td>0</td>\n",
       "      <td>0</td>\n",
       "      <td>1</td>\n",
       "      <td>3</td>\n",
       "      <td>2</td>\n",
       "      <td>4</td>\n",
       "      <td>Male</td>\n",
       "      <td>False</td>\n",
       "      <td>True</td>\n",
       "      <td>MS</td>\n",
       "      <td>510</td>\n",
       "      <td>402-5509</td>\n",
       "    </tr>\n",
       "    <tr>\n",
       "      <th>1</th>\n",
       "      <td>84.0</td>\n",
       "      <td>0.46</td>\n",
       "      <td>279.1</td>\n",
       "      <td>170.9</td>\n",
       "      <td>92</td>\n",
       "      <td>0</td>\n",
       "      <td>0</td>\n",
       "      <td>0</td>\n",
       "      <td>1</td>\n",
       "      <td>2</td>\n",
       "      <td>2</td>\n",
       "      <td>3</td>\n",
       "      <td>Male</td>\n",
       "      <td>False</td>\n",
       "      <td>False</td>\n",
       "      <td>OH</td>\n",
       "      <td>510</td>\n",
       "      <td>370-3021</td>\n",
       "    </tr>\n",
       "    <tr>\n",
       "      <th>2</th>\n",
       "      <td>96.0</td>\n",
       "      <td>0.00</td>\n",
       "      <td>294.7</td>\n",
       "      <td>306</td>\n",
       "      <td>96</td>\n",
       "      <td>1</td>\n",
       "      <td>1</td>\n",
       "      <td>0</td>\n",
       "      <td>0</td>\n",
       "      <td>2</td>\n",
       "      <td>3</td>\n",
       "      <td>3</td>\n",
       "      <td>Female</td>\n",
       "      <td>True</td>\n",
       "      <td>False</td>\n",
       "      <td>MI</td>\n",
       "      <td>415</td>\n",
       "      <td>373-1448</td>\n",
       "    </tr>\n",
       "    <tr>\n",
       "      <th>3</th>\n",
       "      <td>62.0</td>\n",
       "      <td>0.00</td>\n",
       "      <td>255.4</td>\n",
       "      <td>185.6</td>\n",
       "      <td>100</td>\n",
       "      <td>2</td>\n",
       "      <td>0</td>\n",
       "      <td>0</td>\n",
       "      <td>0</td>\n",
       "      <td>2</td>\n",
       "      <td>2</td>\n",
       "      <td>3</td>\n",
       "      <td>Male</td>\n",
       "      <td>False</td>\n",
       "      <td>False</td>\n",
       "      <td>VT</td>\n",
       "      <td>510</td>\n",
       "      <td>403-1769</td>\n",
       "    </tr>\n",
       "    <tr>\n",
       "      <th>4</th>\n",
       "      <td>45.0</td>\n",
       "      <td>0.28</td>\n",
       "      <td>300.6</td>\n",
       "      <td>197.9</td>\n",
       "      <td>154</td>\n",
       "      <td>0</td>\n",
       "      <td>0</td>\n",
       "      <td>0</td>\n",
       "      <td>1</td>\n",
       "      <td>3</td>\n",
       "      <td>2</td>\n",
       "      <td>5</td>\n",
       "      <td>Male</td>\n",
       "      <td>False</td>\n",
       "      <td>True</td>\n",
       "      <td>WV</td>\n",
       "      <td>408</td>\n",
       "      <td>405-9384</td>\n",
       "    </tr>\n",
       "  </tbody>\n",
       "</table>\n",
       "</div>"
      ],
      "text/plain": [
       "   last_purchase  max_discount  shoe_spend apparell_spend  acc_spend  \\\n",
       "0           56.5          0.26       322.2          194.3        126   \n",
       "1           84.0          0.46       279.1          170.9         92   \n",
       "2           96.0          0.00       294.7            306         96   \n",
       "3           62.0          0.00       255.4          185.6        100   \n",
       "4           45.0          0.28       300.6          197.9        154   \n",
       "\n",
       "   custserv_calls  churn  acc_purchasers  promo_purchaser  shoe_orders  \\\n",
       "0               1      0               0                1            3   \n",
       "1               0      0               0                1            2   \n",
       "2               1      1               0                0            2   \n",
       "3               2      0               0                0            2   \n",
       "4               0      0               0                1            3   \n",
       "\n",
       "   apparel_orders  acc_orders  gender  ecommShopper  bhShopper state  \\\n",
       "0               2           4    Male         False       True    MS   \n",
       "1               2           3    Male         False      False    OH   \n",
       "2               3           3  Female          True      False    MI   \n",
       "3               2           3    Male         False      False    VT   \n",
       "4               2           5    Male         False       True    WV   \n",
       "\n",
       "   area_code     phone  \n",
       "0        510  402-5509  \n",
       "1        510  370-3021  \n",
       "2        415  373-1448  \n",
       "3        510  403-1769  \n",
       "4        408  405-9384  "
      ]
     },
     "execution_count": 12,
     "metadata": {},
     "output_type": "execute_result"
    }
   ],
   "source": [
    "df_train1.head()"
   ]
  },
  {
   "cell_type": "code",
   "execution_count": 13,
   "metadata": {},
   "outputs": [
    {
     "data": {
      "text/plain": [
       "(2666, 18)"
      ]
     },
     "execution_count": 13,
     "metadata": {},
     "output_type": "execute_result"
    }
   ],
   "source": [
    "#How many rows and columns?\n",
    "df_train1.shape"
   ]
  },
  {
   "cell_type": "code",
   "execution_count": 14,
   "metadata": {},
   "outputs": [
    {
     "data": {
      "text/plain": [
       "last_purchase      0\n",
       "max_discount       1\n",
       "shoe_spend         0\n",
       "apparell_spend     0\n",
       "acc_spend          0\n",
       "custserv_calls     0\n",
       "churn              0\n",
       "acc_purchasers     0\n",
       "promo_purchaser    0\n",
       "shoe_orders        0\n",
       "apparel_orders     0\n",
       "acc_orders         0\n",
       "gender             0\n",
       "ecommShopper       0\n",
       "bhShopper          0\n",
       "state              0\n",
       "area_code          0\n",
       "phone              0\n",
       "dtype: int64"
      ]
     },
     "execution_count": 14,
     "metadata": {},
     "output_type": "execute_result"
    }
   ],
   "source": [
    "#we should always check for missing values in our data \n",
    "df_train1.isna().sum()"
   ]
  },
  {
   "cell_type": "code",
   "execution_count": 15,
   "metadata": {},
   "outputs": [
    {
     "data": {
      "text/plain": [
       "last_purchase      float64\n",
       "max_discount       float64\n",
       "shoe_spend         float64\n",
       "apparell_spend      object\n",
       "acc_spend            int64\n",
       "custserv_calls       int64\n",
       "churn                int64\n",
       "acc_purchasers       int64\n",
       "promo_purchaser      int64\n",
       "shoe_orders          int64\n",
       "apparel_orders       int64\n",
       "acc_orders           int64\n",
       "gender              object\n",
       "ecommShopper          bool\n",
       "bhShopper             bool\n",
       "state               object\n",
       "area_code            int64\n",
       "phone               object\n",
       "dtype: object"
      ]
     },
     "execution_count": 15,
     "metadata": {},
     "output_type": "execute_result"
    }
   ],
   "source": [
    "#also important to check your data types\n",
    "df_train1.dtypes"
   ]
  },
  {
   "cell_type": "code",
   "execution_count": 16,
   "metadata": {},
   "outputs": [
    {
     "ename": "ValueError",
     "evalue": "Unable to parse string \"a\" at position 707",
     "output_type": "error",
     "traceback": [
      "\u001b[0;31m---------------------------------------------------------------------------\u001b[0m",
      "\u001b[0;31mValueError\u001b[0m                                Traceback (most recent call last)",
      "\u001b[0;32mpandas/_libs/lib.pyx\u001b[0m in \u001b[0;36mpandas._libs.lib.maybe_convert_numeric\u001b[0;34m()\u001b[0m\n",
      "\u001b[0;31mValueError\u001b[0m: Unable to parse string \"a\"",
      "\nDuring handling of the above exception, another exception occurred:\n",
      "\u001b[0;31mValueError\u001b[0m                                Traceback (most recent call last)",
      "\u001b[0;32m<ipython-input-16-f9d701d5a652>\u001b[0m in \u001b[0;36m<module>\u001b[0;34m\u001b[0m\n\u001b[1;32m      1\u001b[0m \u001b[0;31m#it is interesting that our apparell_spend column is an object dtype, would be better if this\u001b[0m\u001b[0;34m\u001b[0m\u001b[0;34m\u001b[0m\u001b[0;34m\u001b[0m\u001b[0m\n\u001b[1;32m      2\u001b[0m \u001b[0;31m#column was numeric\u001b[0m\u001b[0;34m\u001b[0m\u001b[0;34m\u001b[0m\u001b[0;34m\u001b[0m\u001b[0m\n\u001b[0;32m----> 3\u001b[0;31m \u001b[0mpd\u001b[0m\u001b[0;34m.\u001b[0m\u001b[0mto_numeric\u001b[0m\u001b[0;34m(\u001b[0m\u001b[0mdf_train1\u001b[0m\u001b[0;34m.\u001b[0m\u001b[0mapparell_spend\u001b[0m\u001b[0;34m)\u001b[0m\u001b[0;34m\u001b[0m\u001b[0;34m\u001b[0m\u001b[0m\n\u001b[0m",
      "\u001b[0;32m/opt/anaconda3/lib/python3.8/site-packages/pandas/core/tools/numeric.py\u001b[0m in \u001b[0;36mto_numeric\u001b[0;34m(arg, errors, downcast)\u001b[0m\n\u001b[1;32m    150\u001b[0m         \u001b[0mcoerce_numeric\u001b[0m \u001b[0;34m=\u001b[0m \u001b[0merrors\u001b[0m \u001b[0;32mnot\u001b[0m \u001b[0;32min\u001b[0m \u001b[0;34m(\u001b[0m\u001b[0;34m\"ignore\"\u001b[0m\u001b[0;34m,\u001b[0m \u001b[0;34m\"raise\"\u001b[0m\u001b[0;34m)\u001b[0m\u001b[0;34m\u001b[0m\u001b[0;34m\u001b[0m\u001b[0m\n\u001b[1;32m    151\u001b[0m         \u001b[0;32mtry\u001b[0m\u001b[0;34m:\u001b[0m\u001b[0;34m\u001b[0m\u001b[0;34m\u001b[0m\u001b[0m\n\u001b[0;32m--> 152\u001b[0;31m             values = lib.maybe_convert_numeric(\n\u001b[0m\u001b[1;32m    153\u001b[0m                 \u001b[0mvalues\u001b[0m\u001b[0;34m,\u001b[0m \u001b[0mset\u001b[0m\u001b[0;34m(\u001b[0m\u001b[0;34m)\u001b[0m\u001b[0;34m,\u001b[0m \u001b[0mcoerce_numeric\u001b[0m\u001b[0;34m=\u001b[0m\u001b[0mcoerce_numeric\u001b[0m\u001b[0;34m\u001b[0m\u001b[0;34m\u001b[0m\u001b[0m\n\u001b[1;32m    154\u001b[0m             )\n",
      "\u001b[0;32mpandas/_libs/lib.pyx\u001b[0m in \u001b[0;36mpandas._libs.lib.maybe_convert_numeric\u001b[0;34m()\u001b[0m\n",
      "\u001b[0;31mValueError\u001b[0m: Unable to parse string \"a\" at position 707"
     ]
    }
   ],
   "source": [
    "#it is interesting that our apparell_spend column is an object dtype, would be better if this \n",
    "#column was numeric\n",
    "pd.to_numeric(df_train1.apparell_spend)"
   ]
  },
  {
   "cell_type": "code",
   "execution_count": null,
   "metadata": {},
   "outputs": [],
   "source": [
    "#we get an error that says there is an 'a' string at position 707\n",
    "#since this is only the case for 1 row, it would be most efficient to delete this row\n",
    "df_train1.iloc[707]['apparell_spend']\n"
   ]
  },
  {
   "cell_type": "code",
   "execution_count": 27,
   "metadata": {},
   "outputs": [
    {
     "data": {
      "text/plain": [
       "(2665, 18)"
      ]
     },
     "execution_count": 27,
     "metadata": {},
     "output_type": "execute_result"
    }
   ],
   "source": [
    "#delete the position 707 row 'a' in the max_discount column\n",
    "df_train2 = df_train1[df_train1.apparell_spend!='a']\n",
    "df_train2.shape"
   ]
  },
  {
   "cell_type": "code",
   "execution_count": 28,
   "metadata": {},
   "outputs": [],
   "source": [
    "#we see this was done successful because we have 1 less row in the shape of this dataframe\n",
    "#now before we model lets look at our data to make some observations"
   ]
  },
  {
   "cell_type": "code",
   "execution_count": 29,
   "metadata": {},
   "outputs": [
    {
     "name": "stderr",
     "output_type": "stream",
     "text": [
      "/opt/anaconda3/lib/python3.8/site-packages/seaborn/_decorators.py:36: FutureWarning: Pass the following variable as a keyword arg: x. From version 0.12, the only valid positional argument will be `data`, and passing other arguments without an explicit keyword will result in an error or misinterpretation.\n",
      "  warnings.warn(\n"
     ]
    },
    {
     "data": {
      "text/plain": [
       "<AxesSubplot:xlabel='churn', ylabel='count'>"
      ]
     },
     "execution_count": 29,
     "metadata": {},
     "output_type": "execute_result"
    },
    {
     "data": {
      "image/png": "[encoded data removed]",
      "text/plain": [
       "<Figure size 432x288 with 1 Axes>"
      ]
     },
     "metadata": {
      "needs_background": "light"
     },
     "output_type": "display_data"
    }
   ],
   "source": [
    "#our target variable is churn so lets look at this visualize this variable\n",
    "sns.countplot(df_train2['churn'])"
   ]
  },
  {
   "cell_type": "code",
   "execution_count": 30,
   "metadata": {},
   "outputs": [
    {
     "name": "stdout",
     "output_type": "stream",
     "text": [
      "2268\n",
      "397\n",
      "85.10318949343339 % of customers stayed with Under Armour\n",
      "14.896810506566604 % of customers left Under Armour\n"
     ]
    }
   ],
   "source": [
    "#We see that obviously Under Armour is retaining more customers than are leaving (by a significant margin)\n",
    "#But we may wonder, Exactly how many churned? and What are the exact percentages of churning and staying customers?\n",
    "\n",
    "#find the number of customers who churned/didn't churn\n",
    "total_customers_kept = df_train2[df_train2.churn == 0].shape[0]\n",
    "total_customers_churned = df_train2[df_train2.churn == 1].shape[0]\n",
    "\n",
    "#print these numbers\n",
    "print(total_customers_kept)\n",
    "print(total_customers_churned)\n",
    "\n",
    "#figure out the percentage of customers who stayed and the percentage who left\n",
    "percentage_kept = ((total_customers_kept / (total_customers_kept + total_customers_churned))*100)\n",
    "percentage_churned = ((total_customers_churned / (total_customers_kept + total_customers_churned))*100)\n",
    "\n",
    "#print this data\n",
    "print(percentage_kept, '% of customers stayed with Under Armour')\n",
    "print(percentage_churned, '% of customers left Under Armour' )"
   ]
  },
  {
   "cell_type": "code",
   "execution_count": 31,
   "metadata": {},
   "outputs": [
    {
     "data": {
      "text/plain": [
       "<AxesSubplot:xlabel='gender', ylabel='count'>"
      ]
     },
     "execution_count": 31,
     "metadata": {},
     "output_type": "execute_result"
    },
    {
     "data": {
      "image/png": "[encoded data removed]",
      "text/plain": [
       "<Figure size 432x288 with 1 Axes>"
      ]
     },
     "metadata": {
      "needs_background": "light"
     },
     "output_type": "display_data"
    }
   ],
   "source": [
    "#We may also wonder things like: does gender play a significant role in churn? \n",
    "#Do we need to increase our efforts to market to one gender in particular? Let's see:\n",
    "sns.countplot(x = 'gender', hue='churn', data=df_train2)"
   ]
  },
  {
   "cell_type": "code",
   "execution_count": 32,
   "metadata": {},
   "outputs": [],
   "source": [
    "#Here we see that gender does not really seem to play a big role in why customers are leaving"
   ]
  },
  {
   "cell_type": "code",
   "execution_count": 33,
   "metadata": {},
   "outputs": [
    {
     "data": {
      "text/plain": [
       "<AxesSubplot:xlabel='custserv_calls', ylabel='count'>"
      ]
     },
     "execution_count": 33,
     "metadata": {},
     "output_type": "execute_result"
    },
    {
     "data": {
      "image/png": "[encoded data removed]",
      "text/plain": [
       "<Figure size 432x288 with 1 Axes>"
      ]
     },
     "metadata": {
      "needs_background": "light"
     },
     "output_type": "display_data"
    }
   ],
   "source": [
    "#One column that comes to mind that may influence churn rate is custserv_calls\n",
    "#typically a lot of customer service calls is an indication that a customer\n",
    "#is not all that happy with their service or product quality which leads to higher churn rates\n",
    "#lets look at this:\n",
    "sns.countplot(x='custserv_calls', hue='churn', data=df_train2)"
   ]
  },
  {
   "cell_type": "code",
   "execution_count": 34,
   "metadata": {},
   "outputs": [
    {
     "name": "stdout",
     "output_type": "stream",
     "text": [
      "207\n",
      "2458\n"
     ]
    }
   ],
   "source": [
    "#As expected churn rates increase substansially as custserv_calls also increase.\n",
    "#And really we see that by the fourth customer service call, around 50% of customers end up leaving\n",
    "#This is HUGE and if we can prevent this we can save a lot of customers from leaving\n",
    "#let's look at this in even more depth:\n",
    "Cust_at_least_four_calls = df_train2[df_train2.custserv_calls >= 4].shape[0]\n",
    "Cust_less_than_four_calls = df_train2[df_train2.custserv_calls < 4].shape[0]\n",
    "\n",
    "print(Cust_at_least_four_calls)\n",
    "print(Cust_less_than_four_calls)"
   ]
  },
  {
   "cell_type": "code",
   "execution_count": 35,
   "metadata": {},
   "outputs": [
    {
     "name": "stderr",
     "output_type": "stream",
     "text": [
      "<ipython-input-35-d1d453672fd2>:3: UserWarning: Boolean Series key will be reindexed to match DataFrame index.\n",
      "  df_train2[df_train2.custserv_calls >= 4][df_train2.churn == 1]\n"
     ]
    },
    {
     "data": {
      "text/html": [
       "<div>\n",
       "<style scoped>\n",
       "    .dataframe tbody tr th:only-of-type {\n",
       "        vertical-align: middle;\n",
       "    }\n",
       "\n",
       "    .dataframe tbody tr th {\n",
       "        vertical-align: top;\n",
       "    }\n",
       "\n",
       "    .dataframe thead th {\n",
       "        text-align: right;\n",
       "    }\n",
       "</style>\n",
       "<table border=\"1\" class=\"dataframe\">\n",
       "  <thead>\n",
       "    <tr style=\"text-align: right;\">\n",
       "      <th></th>\n",
       "      <th>last_purchase</th>\n",
       "      <th>max_discount</th>\n",
       "      <th>shoe_spend</th>\n",
       "      <th>apparell_spend</th>\n",
       "      <th>acc_spend</th>\n",
       "      <th>custserv_calls</th>\n",
       "      <th>churn</th>\n",
       "      <th>acc_purchasers</th>\n",
       "      <th>promo_purchaser</th>\n",
       "      <th>shoe_orders</th>\n",
       "      <th>apparel_orders</th>\n",
       "      <th>acc_orders</th>\n",
       "      <th>gender</th>\n",
       "      <th>ecommShopper</th>\n",
       "      <th>bhShopper</th>\n",
       "      <th>state</th>\n",
       "      <th>area_code</th>\n",
       "      <th>phone</th>\n",
       "    </tr>\n",
       "  </thead>\n",
       "  <tbody>\n",
       "    <tr>\n",
       "      <th>38</th>\n",
       "      <td>41.0</td>\n",
       "      <td>0.00</td>\n",
       "      <td>397.9</td>\n",
       "      <td>287.8</td>\n",
       "      <td>54</td>\n",
       "      <td>4</td>\n",
       "      <td>1</td>\n",
       "      <td>0</td>\n",
       "      <td>0</td>\n",
       "      <td>3</td>\n",
       "      <td>3</td>\n",
       "      <td>2</td>\n",
       "      <td>Female</td>\n",
       "      <td>False</td>\n",
       "      <td>True</td>\n",
       "      <td>NY</td>\n",
       "      <td>415</td>\n",
       "      <td>351-7269</td>\n",
       "    </tr>\n",
       "    <tr>\n",
       "      <th>118</th>\n",
       "      <td>104.0</td>\n",
       "      <td>0.00</td>\n",
       "      <td>203.1</td>\n",
       "      <td>128.2</td>\n",
       "      <td>103</td>\n",
       "      <td>5</td>\n",
       "      <td>1</td>\n",
       "      <td>0</td>\n",
       "      <td>0</td>\n",
       "      <td>2</td>\n",
       "      <td>2</td>\n",
       "      <td>3</td>\n",
       "      <td>Female</td>\n",
       "      <td>False</td>\n",
       "      <td>True</td>\n",
       "      <td>NH</td>\n",
       "      <td>408</td>\n",
       "      <td>393-8762</td>\n",
       "    </tr>\n",
       "    <tr>\n",
       "      <th>120</th>\n",
       "      <td>63.5</td>\n",
       "      <td>0.00</td>\n",
       "      <td>224.4</td>\n",
       "      <td>149.5</td>\n",
       "      <td>97</td>\n",
       "      <td>6</td>\n",
       "      <td>1</td>\n",
       "      <td>0</td>\n",
       "      <td>0</td>\n",
       "      <td>2</td>\n",
       "      <td>2</td>\n",
       "      <td>3</td>\n",
       "      <td>Male</td>\n",
       "      <td>True</td>\n",
       "      <td>True</td>\n",
       "      <td>MD</td>\n",
       "      <td>408</td>\n",
       "      <td>405-2276</td>\n",
       "    </tr>\n",
       "    <tr>\n",
       "      <th>184</th>\n",
       "      <td>77.5</td>\n",
       "      <td>0.00</td>\n",
       "      <td>196.5</td>\n",
       "      <td>144.8</td>\n",
       "      <td>79</td>\n",
       "      <td>5</td>\n",
       "      <td>1</td>\n",
       "      <td>0</td>\n",
       "      <td>0</td>\n",
       "      <td>2</td>\n",
       "      <td>2</td>\n",
       "      <td>3</td>\n",
       "      <td>Male</td>\n",
       "      <td>False</td>\n",
       "      <td>True</td>\n",
       "      <td>WV</td>\n",
       "      <td>510</td>\n",
       "      <td>421-1326</td>\n",
       "    </tr>\n",
       "    <tr>\n",
       "      <th>191</th>\n",
       "      <td>79.0</td>\n",
       "      <td>0.00</td>\n",
       "      <td>230.8</td>\n",
       "      <td>160</td>\n",
       "      <td>109</td>\n",
       "      <td>5</td>\n",
       "      <td>1</td>\n",
       "      <td>0</td>\n",
       "      <td>0</td>\n",
       "      <td>2</td>\n",
       "      <td>2</td>\n",
       "      <td>3</td>\n",
       "      <td>Female</td>\n",
       "      <td>True</td>\n",
       "      <td>False</td>\n",
       "      <td>MO</td>\n",
       "      <td>510</td>\n",
       "      <td>383-6095</td>\n",
       "    </tr>\n",
       "    <tr>\n",
       "      <th>...</th>\n",
       "      <td>...</td>\n",
       "      <td>...</td>\n",
       "      <td>...</td>\n",
       "      <td>...</td>\n",
       "      <td>...</td>\n",
       "      <td>...</td>\n",
       "      <td>...</td>\n",
       "      <td>...</td>\n",
       "      <td>...</td>\n",
       "      <td>...</td>\n",
       "      <td>...</td>\n",
       "      <td>...</td>\n",
       "      <td>...</td>\n",
       "      <td>...</td>\n",
       "      <td>...</td>\n",
       "      <td>...</td>\n",
       "      <td>...</td>\n",
       "      <td>...</td>\n",
       "    </tr>\n",
       "    <tr>\n",
       "      <th>2618</th>\n",
       "      <td>60.0</td>\n",
       "      <td>0.00</td>\n",
       "      <td>188.2</td>\n",
       "      <td>160</td>\n",
       "      <td>129</td>\n",
       "      <td>4</td>\n",
       "      <td>1</td>\n",
       "      <td>0</td>\n",
       "      <td>0</td>\n",
       "      <td>2</td>\n",
       "      <td>2</td>\n",
       "      <td>4</td>\n",
       "      <td>Female</td>\n",
       "      <td>True</td>\n",
       "      <td>True</td>\n",
       "      <td>NY</td>\n",
       "      <td>415</td>\n",
       "      <td>329-6731</td>\n",
       "    </tr>\n",
       "    <tr>\n",
       "      <th>2624</th>\n",
       "      <td>72.0</td>\n",
       "      <td>0.00</td>\n",
       "      <td>180.5</td>\n",
       "      <td>188.1</td>\n",
       "      <td>115</td>\n",
       "      <td>7</td>\n",
       "      <td>1</td>\n",
       "      <td>0</td>\n",
       "      <td>0</td>\n",
       "      <td>1</td>\n",
       "      <td>2</td>\n",
       "      <td>4</td>\n",
       "      <td>Male</td>\n",
       "      <td>True</td>\n",
       "      <td>False</td>\n",
       "      <td>VT</td>\n",
       "      <td>415</td>\n",
       "      <td>380-8727</td>\n",
       "    </tr>\n",
       "    <tr>\n",
       "      <th>2633</th>\n",
       "      <td>76.0</td>\n",
       "      <td>0.00</td>\n",
       "      <td>219.4</td>\n",
       "      <td>138.3</td>\n",
       "      <td>117</td>\n",
       "      <td>5</td>\n",
       "      <td>1</td>\n",
       "      <td>0</td>\n",
       "      <td>0</td>\n",
       "      <td>2</td>\n",
       "      <td>2</td>\n",
       "      <td>4</td>\n",
       "      <td>Female</td>\n",
       "      <td>False</td>\n",
       "      <td>True</td>\n",
       "      <td>MI</td>\n",
       "      <td>415</td>\n",
       "      <td>390-7930</td>\n",
       "    </tr>\n",
       "    <tr>\n",
       "      <th>2662</th>\n",
       "      <td>71.0</td>\n",
       "      <td>0.00</td>\n",
       "      <td>154.7</td>\n",
       "      <td>230.1</td>\n",
       "      <td>135</td>\n",
       "      <td>5</td>\n",
       "      <td>1</td>\n",
       "      <td>0</td>\n",
       "      <td>0</td>\n",
       "      <td>1</td>\n",
       "      <td>3</td>\n",
       "      <td>4</td>\n",
       "      <td>Male</td>\n",
       "      <td>False</td>\n",
       "      <td>False</td>\n",
       "      <td>OK</td>\n",
       "      <td>408</td>\n",
       "      <td>345-1524</td>\n",
       "    </tr>\n",
       "    <tr>\n",
       "      <th>2665</th>\n",
       "      <td>74.0</td>\n",
       "      <td>0.41</td>\n",
       "      <td>201.8</td>\n",
       "      <td>170.8</td>\n",
       "      <td>103</td>\n",
       "      <td>5</td>\n",
       "      <td>1</td>\n",
       "      <td>1</td>\n",
       "      <td>1</td>\n",
       "      <td>2</td>\n",
       "      <td>2</td>\n",
       "      <td>3</td>\n",
       "      <td>Male</td>\n",
       "      <td>False</td>\n",
       "      <td>True</td>\n",
       "      <td>VT</td>\n",
       "      <td>510</td>\n",
       "      <td>378-3508</td>\n",
       "    </tr>\n",
       "  </tbody>\n",
       "</table>\n",
       "<p>106 rows × 18 columns</p>\n",
       "</div>"
      ],
      "text/plain": [
       "      last_purchase  max_discount  shoe_spend apparell_spend  acc_spend  \\\n",
       "38             41.0          0.00       397.9          287.8         54   \n",
       "118           104.0          0.00       203.1          128.2        103   \n",
       "120            63.5          0.00       224.4          149.5         97   \n",
       "184            77.5          0.00       196.5          144.8         79   \n",
       "191            79.0          0.00       230.8            160        109   \n",
       "...             ...           ...         ...            ...        ...   \n",
       "2618           60.0          0.00       188.2            160        129   \n",
       "2624           72.0          0.00       180.5          188.1        115   \n",
       "2633           76.0          0.00       219.4          138.3        117   \n",
       "2662           71.0          0.00       154.7          230.1        135   \n",
       "2665           74.0          0.41       201.8          170.8        103   \n",
       "\n",
       "      custserv_calls  churn  acc_purchasers  promo_purchaser  shoe_orders  \\\n",
       "38                 4      1               0                0            3   \n",
       "118                5      1               0                0            2   \n",
       "120                6      1               0                0            2   \n",
       "184                5      1               0                0            2   \n",
       "191                5      1               0                0            2   \n",
       "...              ...    ...             ...              ...          ...   \n",
       "2618               4      1               0                0            2   \n",
       "2624               7      1               0                0            1   \n",
       "2633               5      1               0                0            2   \n",
       "2662               5      1               0                0            1   \n",
       "2665               5      1               1                1            2   \n",
       "\n",
       "      apparel_orders  acc_orders  gender  ecommShopper  bhShopper state  \\\n",
       "38                 3           2  Female         False       True    NY   \n",
       "118                2           3  Female         False       True    NH   \n",
       "120                2           3    Male          True       True    MD   \n",
       "184                2           3    Male         False       True    WV   \n",
       "191                2           3  Female          True      False    MO   \n",
       "...              ...         ...     ...           ...        ...   ...   \n",
       "2618               2           4  Female          True       True    NY   \n",
       "2624               2           4    Male          True      False    VT   \n",
       "2633               2           4  Female         False       True    MI   \n",
       "2662               3           4    Male         False      False    OK   \n",
       "2665               2           3    Male         False       True    VT   \n",
       "\n",
       "      area_code     phone  \n",
       "38          415  351-7269  \n",
       "118         408  393-8762  \n",
       "120         408  405-2276  \n",
       "184         510  421-1326  \n",
       "191         510  383-6095  \n",
       "...         ...       ...  \n",
       "2618        415  329-6731  \n",
       "2624        415  380-8727  \n",
       "2633        415  390-7930  \n",
       "2662        408  345-1524  \n",
       "2665        510  378-3508  \n",
       "\n",
       "[106 rows x 18 columns]"
      ]
     },
     "execution_count": 35,
     "metadata": {},
     "output_type": "execute_result"
    }
   ],
   "source": [
    "#So we see that 207 total customers have made at least 4 custserv_calls\n",
    "#Let's see how many customers WITH AT LEAST 4 custserv_calls churn\n",
    "df_train2[df_train2.custserv_calls >= 4][df_train2.churn == 1]"
   ]
  },
  {
   "cell_type": "code",
   "execution_count": 36,
   "metadata": {},
   "outputs": [
    {
     "name": "stdout",
     "output_type": "stream",
     "text": [
      "51.20772946859904 % of customers that have at least four calls churn\n"
     ]
    }
   ],
   "source": [
    "#We see that 106 of the total 207 customers with at least 4 customer services calls have churned\n",
    "Cust_churn_rate_more_than_four_calls = (106/207)*100\n",
    "print(Cust_churn_rate_more_than_four_calls, '% of customers that have at least four calls churn')"
   ]
  },
  {
   "cell_type": "code",
   "execution_count": 37,
   "metadata": {},
   "outputs": [],
   "source": [
    "#this is astoundingly high compared to our normal churn rate of around 14%\n",
    "#This may be an indication that we should make our custserv process easier or more efficient if possible"
   ]
  },
  {
   "cell_type": "code",
   "execution_count": 38,
   "metadata": {},
   "outputs": [
    {
     "data": {
      "text/plain": [
       "array([<AxesSubplot:title={'center':'max_discount'}>,\n",
       "       <AxesSubplot:title={'center':'shoe_spend'}>], dtype=object)"
      ]
     },
     "execution_count": 38,
     "metadata": {},
     "output_type": "execute_result"
    },
    {
     "data": {
      "image/png": "[encoded data removed]",
      "text/plain": [
       "<Figure size 2160x720 with 2 Axes>"
      ]
     },
     "metadata": {
      "needs_background": "light"
     },
     "output_type": "display_data"
    }
   ],
   "source": [
    "#we can also look at other columns and see how/if they impact churn rates\n",
    "other_cols = ['max_discount', 'shoe_spend']\n",
    "fig, ax = plt.subplots(1,2, figsize=(30,10))\n",
    "df_train2[df_train2.churn == 0][other_cols].hist(bins=20, color='blue', alpha=0.5, ax=ax)\n",
    "df_train2[df_train2.churn == 1][other_cols].hist(bins=20, color='red', alpha=0.5, ax=ax)"
   ]
  },
  {
   "cell_type": "code",
   "execution_count": 39,
   "metadata": {},
   "outputs": [
    {
     "data": {
      "text/plain": [
       "<function matplotlib.pyplot.legend(*args, **kwargs)>"
      ]
     },
     "execution_count": 39,
     "metadata": {},
     "output_type": "execute_result"
    },
    {
     "data": {
      "image/png": "[encoded data removed]",
      "text/plain": [
       "<Figure size 432x288 with 1 Axes>"
      ]
     },
     "metadata": {
      "needs_background": "light"
     },
     "output_type": "display_data"
    }
   ],
   "source": [
    "#we also see here the shoe_spend has a big impact on customers churning as well\n",
    "#lets look at the account spend column\n",
    "#sometimes a lot of money spent could be a good thing, \n",
    "#but this isn't always the case, especially if there are recurring fees\n",
    "acc_spend_no_churn = df_train2[df_train2.churn==0].acc_spend\n",
    "acc_spend_yes_churn = df_train2[df_train2.churn==1].acc_spend\n",
    "\n",
    "plt.xlabel('acc_spend')\n",
    "plt.ylabel('Amount of Customers')\n",
    "plt.title('Customer Churn vs acc_spend graph')\n",
    "\n",
    "\n",
    "plt.hist([acc_spend_yes_churn, acc_spend_no_churn], color=['green', 'orange'], label=['churn=1', 'churn=0'])\n",
    "plt.legend"
   ]
  },
  {
   "cell_type": "code",
   "execution_count": 40,
   "metadata": {},
   "outputs": [],
   "source": [
    "#It seems that acc_spend has an impact on our churn rates, but not more than some other variables"
   ]
  },
  {
   "cell_type": "code",
   "execution_count": 41,
   "metadata": {},
   "outputs": [],
   "source": [
    "#Ideally our data types will all be numeric to be able to model and make predictions"
   ]
  },
  {
   "cell_type": "code",
   "execution_count": 42,
   "metadata": {},
   "outputs": [
    {
     "data": {
      "text/plain": [
       "last_purchase      float64\n",
       "max_discount       float64\n",
       "shoe_spend         float64\n",
       "apparell_spend      object\n",
       "acc_spend            int64\n",
       "custserv_calls       int64\n",
       "churn                int64\n",
       "acc_purchasers       int64\n",
       "promo_purchaser      int64\n",
       "shoe_orders          int64\n",
       "apparel_orders       int64\n",
       "acc_orders           int64\n",
       "gender              object\n",
       "ecommShopper          bool\n",
       "bhShopper             bool\n",
       "state               object\n",
       "area_code            int64\n",
       "phone               object\n",
       "dtype: object"
      ]
     },
     "execution_count": 42,
     "metadata": {},
     "output_type": "execute_result"
    }
   ],
   "source": [
    "df_train2.dtypes"
   ]
  },
  {
   "cell_type": "code",
   "execution_count": 43,
   "metadata": {},
   "outputs": [],
   "source": [
    "#We should also take off columns that are not important for making predicitions that are non-numeric\n",
    "df_train2 = df_train2.drop(['state', 'area_code', 'phone'], axis=1)\n",
    "#Also converting dtypes to be numeric for modeling purposes\n",
    "df_train2.apparell_spend = pd.to_numeric(df_train2.apparell_spend)"
   ]
  },
  {
   "cell_type": "code",
   "execution_count": 44,
   "metadata": {},
   "outputs": [
    {
     "data": {
      "text/plain": [
       "last_purchase      float64\n",
       "max_discount       float64\n",
       "shoe_spend         float64\n",
       "apparell_spend     float64\n",
       "acc_spend            int64\n",
       "custserv_calls       int64\n",
       "churn                int64\n",
       "acc_purchasers       int64\n",
       "promo_purchaser      int64\n",
       "shoe_orders          int64\n",
       "apparel_orders       int64\n",
       "acc_orders           int64\n",
       "gender              object\n",
       "ecommShopper          bool\n",
       "bhShopper             bool\n",
       "dtype: object"
      ]
     },
     "execution_count": 44,
     "metadata": {},
     "output_type": "execute_result"
    }
   ],
   "source": [
    "df_train2.dtypes"
   ]
  },
  {
   "cell_type": "code",
   "execution_count": 45,
   "metadata": {},
   "outputs": [],
   "source": [
    "#We should now get the gender, ecommshopper, and bhshopper columns to be int dtype\n",
    "#for boolean values we have the obvious conversion False=0, True=1\n",
    "#For gender we will replace Male=1, and Female=0 to make our model\n",
    "\n",
    "df_train2['ecommShopper'].replace('True', 1, inplace=True)\n",
    "df_train2['ecommShopper'].replace('False', 0, inplace=True)\n",
    "df_train2['bhShopper'].replace('True', 1, inplace=True)\n",
    "df_train2['bhShopper'].replace('False', 0, inplace=True)\n",
    "\n",
    "df_train2.replace('Male', 1, inplace=True)\n",
    "df_train2.replace('Female', 0, inplace=True)"
   ]
  },
  {
   "cell_type": "code",
   "execution_count": 46,
   "metadata": {},
   "outputs": [
    {
     "data": {
      "text/plain": [
       "last_purchase      float64\n",
       "max_discount       float64\n",
       "shoe_spend         float64\n",
       "apparell_spend     float64\n",
       "acc_spend            int64\n",
       "custserv_calls       int64\n",
       "churn                int64\n",
       "acc_purchasers       int64\n",
       "promo_purchaser      int64\n",
       "shoe_orders          int64\n",
       "apparel_orders       int64\n",
       "acc_orders           int64\n",
       "gender               int64\n",
       "ecommShopper          bool\n",
       "bhShopper             bool\n",
       "dtype: object"
      ]
     },
     "execution_count": 46,
     "metadata": {},
     "output_type": "execute_result"
    }
   ],
   "source": [
    "#Let's look at the dtypes again\n",
    "df_train2.dtypes"
   ]
  },
  {
   "cell_type": "code",
   "execution_count": 47,
   "metadata": {},
   "outputs": [],
   "source": [
    "#change ecommShopper and bhShopper to int dtypes\n",
    "df_train2['ecommShopper'] = df_train2['ecommShopper'].astype(int)\n",
    "df_train2['bhShopper'] = df_train2['bhShopper'].astype(int)"
   ]
  },
  {
   "cell_type": "code",
   "execution_count": 48,
   "metadata": {},
   "outputs": [
    {
     "data": {
      "text/plain": [
       "last_purchase      float64\n",
       "max_discount       float64\n",
       "shoe_spend         float64\n",
       "apparell_spend     float64\n",
       "acc_spend            int64\n",
       "custserv_calls       int64\n",
       "churn                int64\n",
       "acc_purchasers       int64\n",
       "promo_purchaser      int64\n",
       "shoe_orders          int64\n",
       "apparel_orders       int64\n",
       "acc_orders           int64\n",
       "gender               int64\n",
       "ecommShopper         int64\n",
       "bhShopper            int64\n",
       "dtype: object"
      ]
     },
     "execution_count": 48,
     "metadata": {},
     "output_type": "execute_result"
    }
   ],
   "source": [
    "df_train2.dtypes"
   ]
  },
  {
   "cell_type": "code",
   "execution_count": 49,
   "metadata": {},
   "outputs": [],
   "source": [
    "#We now have all float or int dtypes\n",
    "#We should also clean our test.csv so we can make predictions from it"
   ]
  },
  {
   "cell_type": "code",
   "execution_count": 50,
   "metadata": {},
   "outputs": [
    {
     "data": {
      "text/html": [
       "<div>\n",
       "<style scoped>\n",
       "    .dataframe tbody tr th:only-of-type {\n",
       "        vertical-align: middle;\n",
       "    }\n",
       "\n",
       "    .dataframe tbody tr th {\n",
       "        vertical-align: top;\n",
       "    }\n",
       "\n",
       "    .dataframe thead th {\n",
       "        text-align: right;\n",
       "    }\n",
       "</style>\n",
       "<table border=\"1\" class=\"dataframe\">\n",
       "  <thead>\n",
       "    <tr style=\"text-align: right;\">\n",
       "      <th></th>\n",
       "      <th>last_purchase</th>\n",
       "      <th>max_discount</th>\n",
       "      <th>shoe_spend</th>\n",
       "      <th>apparell_spend</th>\n",
       "      <th>acc_spend</th>\n",
       "      <th>custserv_calls</th>\n",
       "      <th>acc_purchasers</th>\n",
       "      <th>promo_purchaser</th>\n",
       "      <th>shoe_orders</th>\n",
       "      <th>apparel_orders</th>\n",
       "      <th>acc_orders</th>\n",
       "      <th>gender</th>\n",
       "      <th>ecommShopper</th>\n",
       "      <th>bhShopper</th>\n",
       "      <th>state</th>\n",
       "      <th>area_code</th>\n",
       "      <th>phone</th>\n",
       "    </tr>\n",
       "  </thead>\n",
       "  <tbody>\n",
       "    <tr>\n",
       "      <th>0</th>\n",
       "      <td>57.5</td>\n",
       "      <td>0.25</td>\n",
       "      <td>330.1</td>\n",
       "      <td>167.4</td>\n",
       "      <td>100</td>\n",
       "      <td>1</td>\n",
       "      <td>0</td>\n",
       "      <td>1</td>\n",
       "      <td>3</td>\n",
       "      <td>2</td>\n",
       "      <td>3</td>\n",
       "      <td>Male</td>\n",
       "      <td>True</td>\n",
       "      <td>True</td>\n",
       "      <td>KS</td>\n",
       "      <td>415</td>\n",
       "      <td>382-4657</td>\n",
       "    </tr>\n",
       "    <tr>\n",
       "      <th>1</th>\n",
       "      <td>84.0</td>\n",
       "      <td>0.00</td>\n",
       "      <td>231.7</td>\n",
       "      <td>118.3</td>\n",
       "      <td>101</td>\n",
       "      <td>3</td>\n",
       "      <td>1</td>\n",
       "      <td>0</td>\n",
       "      <td>2</td>\n",
       "      <td>2</td>\n",
       "      <td>3</td>\n",
       "      <td>Male</td>\n",
       "      <td>False</td>\n",
       "      <td>True</td>\n",
       "      <td>OK</td>\n",
       "      <td>415</td>\n",
       "      <td>330-6626</td>\n",
       "    </tr>\n",
       "    <tr>\n",
       "      <th>2</th>\n",
       "      <td>89.0</td>\n",
       "      <td>0.00</td>\n",
       "      <td>194.1</td>\n",
       "      <td>198.5</td>\n",
       "      <td>127</td>\n",
       "      <td>4</td>\n",
       "      <td>0</td>\n",
       "      <td>0</td>\n",
       "      <td>2</td>\n",
       "      <td>2</td>\n",
       "      <td>4</td>\n",
       "      <td>Male</td>\n",
       "      <td>False</td>\n",
       "      <td>True</td>\n",
       "      <td>IN</td>\n",
       "      <td>415</td>\n",
       "      <td>329-6603</td>\n",
       "    </tr>\n",
       "    <tr>\n",
       "      <th>3</th>\n",
       "      <td>56.5</td>\n",
       "      <td>0.00</td>\n",
       "      <td>248.0</td>\n",
       "      <td>42.9</td>\n",
       "      <td>95</td>\n",
       "      <td>0</td>\n",
       "      <td>0</td>\n",
       "      <td>0</td>\n",
       "      <td>2</td>\n",
       "      <td>1</td>\n",
       "      <td>3</td>\n",
       "      <td>Male</td>\n",
       "      <td>False</td>\n",
       "      <td>True</td>\n",
       "      <td>AZ</td>\n",
       "      <td>415</td>\n",
       "      <td>358-1958</td>\n",
       "    </tr>\n",
       "    <tr>\n",
       "      <th>4</th>\n",
       "      <td>66.0</td>\n",
       "      <td>0.00</td>\n",
       "      <td>175.4</td>\n",
       "      <td>107.3</td>\n",
       "      <td>77</td>\n",
       "      <td>2</td>\n",
       "      <td>0</td>\n",
       "      <td>0</td>\n",
       "      <td>1</td>\n",
       "      <td>2</td>\n",
       "      <td>3</td>\n",
       "      <td>Female</td>\n",
       "      <td>False</td>\n",
       "      <td>True</td>\n",
       "      <td>SC</td>\n",
       "      <td>415</td>\n",
       "      <td>350-2565</td>\n",
       "    </tr>\n",
       "  </tbody>\n",
       "</table>\n",
       "</div>"
      ],
      "text/plain": [
       "   last_purchase  max_discount  shoe_spend  apparell_spend  acc_spend  \\\n",
       "0           57.5          0.25       330.1           167.4        100   \n",
       "1           84.0          0.00       231.7           118.3        101   \n",
       "2           89.0          0.00       194.1           198.5        127   \n",
       "3           56.5          0.00       248.0            42.9         95   \n",
       "4           66.0          0.00       175.4           107.3         77   \n",
       "\n",
       "   custserv_calls  acc_purchasers  promo_purchaser  shoe_orders  \\\n",
       "0               1               0                1            3   \n",
       "1               3               1                0            2   \n",
       "2               4               0                0            2   \n",
       "3               0               0                0            2   \n",
       "4               2               0                0            1   \n",
       "\n",
       "   apparel_orders  acc_orders  gender  ecommShopper  bhShopper state  \\\n",
       "0               2           3    Male          True       True    KS   \n",
       "1               2           3    Male         False       True    OK   \n",
       "2               2           4    Male         False       True    IN   \n",
       "3               1           3    Male         False       True    AZ   \n",
       "4               2           3  Female         False       True    SC   \n",
       "\n",
       "   area_code     phone  \n",
       "0        415  382-4657  \n",
       "1        415  330-6626  \n",
       "2        415  329-6603  \n",
       "3        415  358-1958  \n",
       "4        415  350-2565  "
      ]
     },
     "execution_count": 50,
     "metadata": {},
     "output_type": "execute_result"
    }
   ],
   "source": [
    "df_test1.head()"
   ]
  },
  {
   "cell_type": "code",
   "execution_count": 51,
   "metadata": {},
   "outputs": [
    {
     "data": {
      "text/plain": [
       "last_purchase      float64\n",
       "max_discount       float64\n",
       "shoe_spend         float64\n",
       "apparell_spend     float64\n",
       "acc_spend            int64\n",
       "custserv_calls       int64\n",
       "acc_purchasers       int64\n",
       "promo_purchaser      int64\n",
       "shoe_orders          int64\n",
       "apparel_orders       int64\n",
       "acc_orders           int64\n",
       "gender              object\n",
       "ecommShopper          bool\n",
       "bhShopper             bool\n",
       "state               object\n",
       "area_code            int64\n",
       "phone               object\n",
       "dtype: object"
      ]
     },
     "execution_count": 51,
     "metadata": {},
     "output_type": "execute_result"
    }
   ],
   "source": [
    "#We have analyzed how different values do/don't impact churn in our train.csv, so lets just clean our test.csv\n",
    "df_test1.dtypes"
   ]
  },
  {
   "cell_type": "code",
   "execution_count": 52,
   "metadata": {},
   "outputs": [],
   "source": [
    "#As before, to model we should drop unimportant columns, especially ones that cannot be numeric\n",
    "df_test1 = df_test1.drop(['state', 'area_code', 'phone'], axis=1)"
   ]
  },
  {
   "cell_type": "code",
   "execution_count": 53,
   "metadata": {},
   "outputs": [
    {
     "data": {
      "text/plain": [
       "last_purchase      float64\n",
       "max_discount       float64\n",
       "shoe_spend         float64\n",
       "apparell_spend     float64\n",
       "acc_spend            int64\n",
       "custserv_calls       int64\n",
       "acc_purchasers       int64\n",
       "promo_purchaser      int64\n",
       "shoe_orders          int64\n",
       "apparel_orders       int64\n",
       "acc_orders           int64\n",
       "gender              object\n",
       "ecommShopper          bool\n",
       "bhShopper             bool\n",
       "dtype: object"
      ]
     },
     "execution_count": 53,
     "metadata": {},
     "output_type": "execute_result"
    }
   ],
   "source": [
    "df_test1.dtypes"
   ]
  },
  {
   "cell_type": "code",
   "execution_count": 54,
   "metadata": {},
   "outputs": [],
   "source": [
    "#As with train.csv, we should make boolean 0 and 1 and replace Male with 1 and Female with 0\n",
    "df_test1['ecommShopper'].replace('True', 1, inplace=True)\n",
    "df_test1['ecommShopper'].replace('False', 0, inplace=True)\n",
    "df_test1['bhShopper'].replace('True', 1, inplace=True)\n",
    "df_test1['bhShopper'].replace('False', 0, inplace=True)\n",
    "\n",
    "df_test1.replace('Male', 1, inplace=True)\n",
    "df_test1.replace('Female', 0, inplace=True)\n",
    "\n",
    "df_test1['ecommShopper'] = df_test1['ecommShopper'].astype(int)\n",
    "df_test1['bhShopper'] = df_test1['bhShopper'].astype(int)"
   ]
  },
  {
   "cell_type": "code",
   "execution_count": 55,
   "metadata": {},
   "outputs": [
    {
     "data": {
      "text/plain": [
       "last_purchase      float64\n",
       "max_discount       float64\n",
       "shoe_spend         float64\n",
       "apparell_spend     float64\n",
       "acc_spend            int64\n",
       "custserv_calls       int64\n",
       "acc_purchasers       int64\n",
       "promo_purchaser      int64\n",
       "shoe_orders          int64\n",
       "apparel_orders       int64\n",
       "acc_orders           int64\n",
       "gender               int64\n",
       "ecommShopper         int64\n",
       "bhShopper            int64\n",
       "dtype: object"
      ]
     },
     "execution_count": 55,
     "metadata": {},
     "output_type": "execute_result"
    }
   ],
   "source": [
    "df_test1.dtypes"
   ]
  },
  {
   "cell_type": "code",
   "execution_count": 56,
   "metadata": {},
   "outputs": [
    {
     "name": "stdout",
     "output_type": "stream",
     "text": [
      "<class 'pandas.core.frame.DataFrame'>\n",
      "RangeIndex: 667 entries, 0 to 666\n",
      "Data columns (total 14 columns):\n",
      " #   Column           Non-Null Count  Dtype  \n",
      "---  ------           --------------  -----  \n",
      " 0   last_purchase    667 non-null    float64\n",
      " 1   max_discount     667 non-null    float64\n",
      " 2   shoe_spend       667 non-null    float64\n",
      " 3   apparell_spend   667 non-null    float64\n",
      " 4   acc_spend        667 non-null    int64  \n",
      " 5   custserv_calls   667 non-null    int64  \n",
      " 6   acc_purchasers   667 non-null    int64  \n",
      " 7   promo_purchaser  667 non-null    int64  \n",
      " 8   shoe_orders      667 non-null    int64  \n",
      " 9   apparel_orders   667 non-null    int64  \n",
      " 10  acc_orders       667 non-null    int64  \n",
      " 11  gender           667 non-null    int64  \n",
      " 12  ecommShopper     667 non-null    int64  \n",
      " 13  bhShopper        667 non-null    int64  \n",
      "dtypes: float64(4), int64(10)\n",
      "memory usage: 73.1 KB\n"
     ]
    }
   ],
   "source": [
    "#check to make sure we still have no null values\n",
    "df_test1.info()"
   ]
  },
  {
   "cell_type": "code",
   "execution_count": 57,
   "metadata": {},
   "outputs": [
    {
     "name": "stdout",
     "output_type": "stream",
     "text": [
      "<class 'pandas.core.frame.DataFrame'>\n",
      "Int64Index: 2665 entries, 0 to 2665\n",
      "Data columns (total 15 columns):\n",
      " #   Column           Non-Null Count  Dtype  \n",
      "---  ------           --------------  -----  \n",
      " 0   last_purchase    2665 non-null   float64\n",
      " 1   max_discount     2664 non-null   float64\n",
      " 2   shoe_spend       2665 non-null   float64\n",
      " 3   apparell_spend   2665 non-null   float64\n",
      " 4   acc_spend        2665 non-null   int64  \n",
      " 5   custserv_calls   2665 non-null   int64  \n",
      " 6   churn            2665 non-null   int64  \n",
      " 7   acc_purchasers   2665 non-null   int64  \n",
      " 8   promo_purchaser  2665 non-null   int64  \n",
      " 9   shoe_orders      2665 non-null   int64  \n",
      " 10  apparel_orders   2665 non-null   int64  \n",
      " 11  acc_orders       2665 non-null   int64  \n",
      " 12  gender           2665 non-null   int64  \n",
      " 13  ecommShopper     2665 non-null   int64  \n",
      " 14  bhShopper        2665 non-null   int64  \n",
      "dtypes: float64(4), int64(11)\n",
      "memory usage: 413.1 KB\n"
     ]
    }
   ],
   "source": [
    "df_train2.info()"
   ]
  },
  {
   "cell_type": "code",
   "execution_count": 58,
   "metadata": {},
   "outputs": [],
   "source": [
    "#here our target column is churn, so this is our y value\n",
    "X = df_train2.drop(['churn'], axis=1)\n",
    "y = df_train2['churn']\n",
    "\n"
   ]
  },
  {
   "cell_type": "code",
   "execution_count": 62,
   "metadata": {},
   "outputs": [],
   "source": [
    "#split the train.csv into training and testing to find accuracy of our model\n",
    "X_train, X_test, y_train, y_test = train_test_split(X, y, test_size=0.2, random_state=0)\n",
    "X_train = X_train.replace((np.inf, -np.inf, np.nan), 0).reset_index(drop=True)"
   ]
  },
  {
   "cell_type": "code",
   "execution_count": 65,
   "metadata": {},
   "outputs": [],
   "source": [
    "#We will use Random Forest model because it is usually very accurate \n",
    "#and can take in a large amount of predictor variables\n",
    "#Random forest also makes no assumptions about data distribution and is good for churn, (as the name suggests)\n",
    "from sklearn.ensemble import RandomForestClassifier\n",
    "classifier = RandomForestClassifier(n_estimators = 200, random_state=0)\n",
    "classifier.fit(X_train, y_train)\n",
    "predictions1 = classifier.predict(X_test)"
   ]
  },
  {
   "cell_type": "code",
   "execution_count": 66,
   "metadata": {},
   "outputs": [
    {
     "name": "stdout",
     "output_type": "stream",
     "text": [
      "[0 0 0 0 0 1 0 0 0 0 1 0 0 0 0 1 0 0 0 0 0 0 0 0 1 0 0 0 1 0 0 0 0 0 0 0 0\n",
      " 0 0 0 0 0 0 0 0 0 0 0 0 1 0 0 0 0 0 0 0 0 0 0 0 0 0 0 0 0 1 0 0 0 0 0 0 0\n",
      " 1 0 0 1 0 0 0 0 0 0 0 0 0 0 0 0 0 0 1 0 0 0 0 0 0 0 1 0 0 0 0 0 0 0 1 1 0\n",
      " 0 0 0 0 1 0 0 0 0 0 0 0 1 0 0 0 0 0 0 0 0 0 0 0 0 0 0 0 0 0 0 0 0 0 1 0 0\n",
      " 0 0 0 0 0 0 0 0 0 0 0 0 0 0 0 0 0 0 0 0 0 0 0 0 0 0 0 0 0 0 1 0 0 0 0 0 1\n",
      " 0 0 1 0 0 1 0 0 0 0 0 0 0 0 0 0 0 0 0 0 0 0 0 0 1 0 0 0 0 0 0 0 0 0 0 0 0\n",
      " 0 0 1 0 0 1 0 0 0 0 0 0 0 0 0 0 1 0 0 1 0 0 0 0 0 0 0 0 1 0 0 0 0 0 0 0 0\n",
      " 0 0 1 0 0 0 0 0 0 0 0 0 0 0 0 0 0 0 0 0 1 0 1 1 0 0 0 0 1 0 0 0 0 0 1 0 1\n",
      " 0 0 0 0 0 0 1 0 1 0 0 0 0 0 0 0 1 0 0 0 0 0 0 0 0 0 0 0 0 0 0 0 1 0 0 0 0\n",
      " 0 0 0 0 0 0 0 0 0 0 0 0 0 1 0 0 0 0 0 0 0 0 0 0 0 0 0 0 0 0 0 0 0 0 1 0 0\n",
      " 0 0 0 0 0 0 0 0 0 0 0 1 1 0 0 0 0 0 0 0 0 0 0 0 0 0 0 1 0 0 0 0 0 0 0 0 0\n",
      " 0 0 0 0 0 0 0 0 0 0 1 0 0 0 0 0 1 0 0 0 0 0 0 0 0 0 0 0 0 0 0 0 0 0 0 0 0\n",
      " 0 0 1 0 0 0 0 0 0 0 0 0 0 0 0 0 0 0 0 0 0 0 0 0 0 0 0 0 1 0 0 0 0 0 0 0 0\n",
      " 0 1 0 0 1 0 0 0 1 0 1 0 0 0 0 0 0 0 1 0 0 0 0 1 0 0 0 0 0 0 1 0 0 0 0 0 0\n",
      " 0 0 0 0 0 0 0 0 0 0 0 0 0 0 1]\n"
     ]
    }
   ],
   "source": [
    "#here we are predicting our values for the churn column of train.csv to assess the accuracy of our model\n",
    "print(predictions1)"
   ]
  },
  {
   "cell_type": "code",
   "execution_count": 67,
   "metadata": {},
   "outputs": [
    {
     "name": "stdout",
     "output_type": "stream",
     "text": [
      "              precision    recall  f1-score   support\n",
      "\n",
      "           0       0.94      0.99      0.96       454\n",
      "           1       0.91      0.62      0.74        79\n",
      "\n",
      "    accuracy                           0.93       533\n",
      "   macro avg       0.92      0.80      0.85       533\n",
      "weighted avg       0.93      0.93      0.93       533\n",
      "\n",
      "0.9343339587242027\n"
     ]
    }
   ],
   "source": [
    "#Lets assess our model accuracy before we apply it to our test.csv\n",
    "from sklearn.metrics import classification_report, accuracy_score\n",
    "print(classification_report(y_test, predictions1))\n",
    "print(accuracy_score(y_test, predictions1))"
   ]
  },
  {
   "cell_type": "code",
   "execution_count": null,
   "metadata": {},
   "outputs": [],
   "source": [
    "#Our model has an accuracy of 93%, which is much better than just guessing,\n",
    "#(we could get 85.10318949343339 percent of our predictions right if we just guess 0 every time for perspective)\n",
    "\n",
    "#precision is high for our 0 churn values as was recall, meaning it was good about not just assigning\n",
    "#all values of our predictions to 0\n",
    "\n",
    "#for 1, our precision was still good, but recall and f1-score was low, meaning our classifier is missing too many \n",
    "#churn values of 1, (it is essentially be to careful with predictions of 1)\n",
    "\n",
    "#overall the accuracy is very good"
   ]
  },
  {
   "cell_type": "code",
   "execution_count": 68,
   "metadata": {},
   "outputs": [],
   "source": [
    "#Now that we see our model is good, lets apply it to our test.csv and make predictions\n",
    "#here we wont use train_test_split because we already have the training and testing csv files seperate\n",
    "X_train = df_train2.drop('churn', axis=1)\n",
    "y_train = df_train2['churn']\n",
    "\n",
    "#get rid of inf or nan values in X_train\n",
    "X_train = X_train.replace((np.inf, -np.inf, np.nan), 0).reset_index(drop=True)"
   ]
  },
  {
   "cell_type": "code",
   "execution_count": 69,
   "metadata": {},
   "outputs": [],
   "source": [
    "#here we are given our test vales in a test.csv, no need to split\n",
    "X_test = df_test1"
   ]
  },
  {
   "cell_type": "code",
   "execution_count": 70,
   "metadata": {},
   "outputs": [],
   "source": [
    "#lets run the same model on our test data for final prediction\n",
    "classifier_test = RandomForestClassifier(n_estimators=200, random_state=0)\n",
    "classifier_test.fit(X_train, y_train)\n",
    "y_pred_test = classifier_test.predict(X_test)"
   ]
  },
  {
   "cell_type": "code",
   "execution_count": 71,
   "metadata": {},
   "outputs": [
    {
     "name": "stdout",
     "output_type": "stream",
     "text": [
      "[0 0 1 0 0 0 0 0 0 0 0 0 0 0 0 0 1 0 0 0 0 0 0 0 0 0 0 0 0 0 0 0 0 0 0 0 0\n",
      " 0 0 0 1 0 0 0 0 0 0 0 0 0 0 0 0 0 0 0 0 0 0 0 0 0 0 0 0 0 0 0 1 0 0 0 0 0\n",
      " 0 0 0 0 0 1 1 0 0 0 0 0 0 0 0 0 0 0 0 0 0 0 1 0 1 0 0 0 0 0 0 0 0 0 0 0 0\n",
      " 0 0 0 0 0 0 0 1 1 0 0 0 0 0 0 0 0 0 0 0 0 0 0 0 0 0 0 0 0 0 0 0 0 0 0 0 0\n",
      " 0 0 0 0 0 0 0 1 0 0 0 0 0 0 0 0 0 1 0 0 0 0 1 0 0 1 0 0 0 0 0 1 0 0 0 0 0\n",
      " 0 0 1 1 1 0 0 1 0 0 0 0 0 0 0 0 1 0 1 0 0 1 0 0 0 0 0 0 0 0 0 1 0 0 0 0 0\n",
      " 0 0 0 0 1 0 0 1 0 0 0 0 0 0 0 0 1 0 0 0 0 0 0 0 0 0 0 0 0 0 0 0 0 0 0 0 0\n",
      " 0 0 0 0 1 0 0 0 0 0 0 0 0 0 0 0 0 0 1 1 0 0 0 0 0 0 0 0 0 0 0 0 0 1 0 0 0\n",
      " 0 0 0 0 0 0 0 0 0 0 0 0 0 0 0 0 0 0 0 0 0 0 0 0 0 0 0 0 0 0 0 0 0 0 0 0 0\n",
      " 1 0 0 0 0 0 0 0 0 0 0 1 0 0 0 0 0 0 1 0 0 0 0 0 0 0 0 0 0 0 0 0 0 0 0 0 0\n",
      " 0 0 0 0 0 0 0 0 0 0 0 1 0 0 1 0 0 0 0 0 0 1 0 0 0 0 0 0 1 0 0 0 0 0 0 0 0\n",
      " 0 0 0 0 0 0 0 0 0 0 0 0 0 0 0 0 0 0 0 0 0 0 1 0 1 1 0 0 0 0 0 1 1 0 0 1 0\n",
      " 0 0 0 0 0 0 0 0 0 0 1 0 0 0 0 0 0 0 0 0 0 0 0 0 0 0 1 0 0 0 0 0 0 0 1 0 0\n",
      " 1 0 0 0 1 0 0 0 0 0 0 0 0 0 0 0 0 0 0 0 0 0 0 0 0 0 0 0 0 1 0 0 0 0 0 0 0\n",
      " 0 0 0 0 1 0 0 0 0 0 0 0 0 0 0 0 1 0 0 0 0 0 1 0 0 0 0 0 0 0 0 0 0 0 1 0 0\n",
      " 1 0 0 0 0 0 0 0 0 0 0 0 0 0 0 0 1 0 0 0 0 0 0 0 0 0 0 0 0 0 0 1 0 0 1 0 0\n",
      " 0 0 0 0 0 0 0 1 0 0 0 0 0 1 0 0 0 0 0 0 1 0 0 0 0 0 0 0 0 0 0 0 0 0 0 0 0\n",
      " 0 0 0 0 0 0 0 0 0 0 0 0 0 0 0 0 0 1 0 0 0 1 0 0 0 0 1 0 0 0 0 1 0 0 0 0 0\n",
      " 0]\n"
     ]
    }
   ],
   "source": [
    "#print test predictions for churn column that we will add on to the dataframe\n",
    "print(y_pred_test)"
   ]
  },
  {
   "cell_type": "code",
   "execution_count": 72,
   "metadata": {},
   "outputs": [
    {
     "data": {
      "text/plain": [
       "<AxesSubplot:>"
      ]
     },
     "execution_count": 72,
     "metadata": {},
     "output_type": "execute_result"
    },
    {
     "data": {
      "image/png": "[encoded data removed]",
      "text/plain": [
       "<Figure size 432x288 with 1 Axes>"
      ]
     },
     "metadata": {
      "needs_background": "light"
     },
     "output_type": "display_data"
    }
   ],
   "source": [
    "#now we may also wonder which variables play the most signifcant role in predicting customer churn\n",
    "#As the analysis before indicated, we DO NOT want customers to be making 4 or more custserv_calls because\n",
    "#then they leave more than 50% of the time\n",
    "#so lets look at this:\n",
    "feat_importances = pd.Series(classifier.feature_importances_, index=X.columns)\n",
    "feat_importances.nlargest(10).plot(kind='barh')\n"
   ]
  },
  {
   "cell_type": "code",
   "execution_count": 73,
   "metadata": {},
   "outputs": [],
   "source": [
    "#As expected custserv_calls is pretty high up on our feature importance, and we also see that apparell_orders, \n",
    "# and acccount orders do not have much of an impact\n",
    "#We also see that shoe_spend is very important when it comes to predicting churn, as is apparell_spend\n"
   ]
  },
  {
   "cell_type": "code",
   "execution_count": 74,
   "metadata": {},
   "outputs": [],
   "source": [
    "#now lets add our predicitions to our test df and store it as a csv file\n",
    "df_test_RF_pred = df_test1.assign(Churn=y_pred_test)"
   ]
  },
  {
   "cell_type": "code",
   "execution_count": 75,
   "metadata": {},
   "outputs": [
    {
     "data": {
      "text/html": [
       "<div>\n",
       "<style scoped>\n",
       "    .dataframe tbody tr th:only-of-type {\n",
       "        vertical-align: middle;\n",
       "    }\n",
       "\n",
       "    .dataframe tbody tr th {\n",
       "        vertical-align: top;\n",
       "    }\n",
       "\n",
       "    .dataframe thead th {\n",
       "        text-align: right;\n",
       "    }\n",
       "</style>\n",
       "<table border=\"1\" class=\"dataframe\">\n",
       "  <thead>\n",
       "    <tr style=\"text-align: right;\">\n",
       "      <th></th>\n",
       "      <th>last_purchase</th>\n",
       "      <th>max_discount</th>\n",
       "      <th>shoe_spend</th>\n",
       "      <th>apparell_spend</th>\n",
       "      <th>acc_spend</th>\n",
       "      <th>custserv_calls</th>\n",
       "      <th>acc_purchasers</th>\n",
       "      <th>promo_purchaser</th>\n",
       "      <th>shoe_orders</th>\n",
       "      <th>apparel_orders</th>\n",
       "      <th>acc_orders</th>\n",
       "      <th>gender</th>\n",
       "      <th>ecommShopper</th>\n",
       "      <th>bhShopper</th>\n",
       "      <th>Churn</th>\n",
       "    </tr>\n",
       "  </thead>\n",
       "  <tbody>\n",
       "    <tr>\n",
       "      <th>0</th>\n",
       "      <td>57.5</td>\n",
       "      <td>0.25</td>\n",
       "      <td>330.1</td>\n",
       "      <td>167.4</td>\n",
       "      <td>100</td>\n",
       "      <td>1</td>\n",
       "      <td>0</td>\n",
       "      <td>1</td>\n",
       "      <td>3</td>\n",
       "      <td>2</td>\n",
       "      <td>3</td>\n",
       "      <td>1</td>\n",
       "      <td>1</td>\n",
       "      <td>1</td>\n",
       "      <td>0</td>\n",
       "    </tr>\n",
       "    <tr>\n",
       "      <th>1</th>\n",
       "      <td>84.0</td>\n",
       "      <td>0.00</td>\n",
       "      <td>231.7</td>\n",
       "      <td>118.3</td>\n",
       "      <td>101</td>\n",
       "      <td>3</td>\n",
       "      <td>1</td>\n",
       "      <td>0</td>\n",
       "      <td>2</td>\n",
       "      <td>2</td>\n",
       "      <td>3</td>\n",
       "      <td>1</td>\n",
       "      <td>0</td>\n",
       "      <td>1</td>\n",
       "      <td>0</td>\n",
       "    </tr>\n",
       "    <tr>\n",
       "      <th>2</th>\n",
       "      <td>89.0</td>\n",
       "      <td>0.00</td>\n",
       "      <td>194.1</td>\n",
       "      <td>198.5</td>\n",
       "      <td>127</td>\n",
       "      <td>4</td>\n",
       "      <td>0</td>\n",
       "      <td>0</td>\n",
       "      <td>2</td>\n",
       "      <td>2</td>\n",
       "      <td>4</td>\n",
       "      <td>1</td>\n",
       "      <td>0</td>\n",
       "      <td>1</td>\n",
       "      <td>1</td>\n",
       "    </tr>\n",
       "    <tr>\n",
       "      <th>3</th>\n",
       "      <td>56.5</td>\n",
       "      <td>0.00</td>\n",
       "      <td>248.0</td>\n",
       "      <td>42.9</td>\n",
       "      <td>95</td>\n",
       "      <td>0</td>\n",
       "      <td>0</td>\n",
       "      <td>0</td>\n",
       "      <td>2</td>\n",
       "      <td>1</td>\n",
       "      <td>3</td>\n",
       "      <td>1</td>\n",
       "      <td>0</td>\n",
       "      <td>1</td>\n",
       "      <td>0</td>\n",
       "    </tr>\n",
       "    <tr>\n",
       "      <th>4</th>\n",
       "      <td>66.0</td>\n",
       "      <td>0.00</td>\n",
       "      <td>175.4</td>\n",
       "      <td>107.3</td>\n",
       "      <td>77</td>\n",
       "      <td>2</td>\n",
       "      <td>0</td>\n",
       "      <td>0</td>\n",
       "      <td>1</td>\n",
       "      <td>2</td>\n",
       "      <td>3</td>\n",
       "      <td>0</td>\n",
       "      <td>0</td>\n",
       "      <td>1</td>\n",
       "      <td>0</td>\n",
       "    </tr>\n",
       "  </tbody>\n",
       "</table>\n",
       "</div>"
      ],
      "text/plain": [
       "   last_purchase  max_discount  shoe_spend  apparell_spend  acc_spend  \\\n",
       "0           57.5          0.25       330.1           167.4        100   \n",
       "1           84.0          0.00       231.7           118.3        101   \n",
       "2           89.0          0.00       194.1           198.5        127   \n",
       "3           56.5          0.00       248.0            42.9         95   \n",
       "4           66.0          0.00       175.4           107.3         77   \n",
       "\n",
       "   custserv_calls  acc_purchasers  promo_purchaser  shoe_orders  \\\n",
       "0               1               0                1            3   \n",
       "1               3               1                0            2   \n",
       "2               4               0                0            2   \n",
       "3               0               0                0            2   \n",
       "4               2               0                0            1   \n",
       "\n",
       "   apparel_orders  acc_orders  gender  ecommShopper  bhShopper  Churn  \n",
       "0               2           3       1             1          1      0  \n",
       "1               2           3       1             0          1      0  \n",
       "2               2           4       1             0          1      1  \n",
       "3               1           3       1             0          1      0  \n",
       "4               2           3       0             0          1      0  "
      ]
     },
     "execution_count": 75,
     "metadata": {},
     "output_type": "execute_result"
    }
   ],
   "source": [
    "#lets look at this new df to make sure we have input our new values for churn predictions\n",
    "df_test_RF_pred.head()"
   ]
  },
  {
   "cell_type": "code",
   "execution_count": 76,
   "metadata": {},
   "outputs": [],
   "source": [
    "#and lets save this df as a new csv file\n",
    "df_test_RF_pred.to_csv('Random_Forest_predictions_test.csv')"
   ]
  },
  {
   "cell_type": "code",
   "execution_count": 77,
   "metadata": {},
   "outputs": [
    {
     "data": {
      "text/plain": [
       "'/Users/kylecamlic/Documents'"
      ]
     },
     "execution_count": 77,
     "metadata": {},
     "output_type": "execute_result"
    }
   ],
   "source": [
    "%pwd"
   ]
  },
  {
   "cell_type": "code",
   "execution_count": 78,
   "metadata": {},
   "outputs": [
    {
     "data": {
      "text/html": [
       "<div>\n",
       "<style scoped>\n",
       "    .dataframe tbody tr th:only-of-type {\n",
       "        vertical-align: middle;\n",
       "    }\n",
       "\n",
       "    .dataframe tbody tr th {\n",
       "        vertical-align: top;\n",
       "    }\n",
       "\n",
       "    .dataframe thead th {\n",
       "        text-align: right;\n",
       "    }\n",
       "</style>\n",
       "<table border=\"1\" class=\"dataframe\">\n",
       "  <thead>\n",
       "    <tr style=\"text-align: right;\">\n",
       "      <th></th>\n",
       "      <th>last_purchase</th>\n",
       "      <th>max_discount</th>\n",
       "      <th>shoe_spend</th>\n",
       "      <th>apparell_spend</th>\n",
       "      <th>acc_spend</th>\n",
       "      <th>custserv_calls</th>\n",
       "      <th>acc_purchasers</th>\n",
       "      <th>promo_purchaser</th>\n",
       "      <th>shoe_orders</th>\n",
       "      <th>apparel_orders</th>\n",
       "      <th>acc_orders</th>\n",
       "      <th>gender</th>\n",
       "      <th>ecommShopper</th>\n",
       "      <th>bhShopper</th>\n",
       "    </tr>\n",
       "  </thead>\n",
       "  <tbody>\n",
       "    <tr>\n",
       "      <th>0</th>\n",
       "      <td>57.5</td>\n",
       "      <td>0.25</td>\n",
       "      <td>330.1</td>\n",
       "      <td>167.4</td>\n",
       "      <td>100</td>\n",
       "      <td>1</td>\n",
       "      <td>0</td>\n",
       "      <td>1</td>\n",
       "      <td>3</td>\n",
       "      <td>2</td>\n",
       "      <td>3</td>\n",
       "      <td>1</td>\n",
       "      <td>1</td>\n",
       "      <td>1</td>\n",
       "    </tr>\n",
       "    <tr>\n",
       "      <th>1</th>\n",
       "      <td>84.0</td>\n",
       "      <td>0.00</td>\n",
       "      <td>231.7</td>\n",
       "      <td>118.3</td>\n",
       "      <td>101</td>\n",
       "      <td>3</td>\n",
       "      <td>1</td>\n",
       "      <td>0</td>\n",
       "      <td>2</td>\n",
       "      <td>2</td>\n",
       "      <td>3</td>\n",
       "      <td>1</td>\n",
       "      <td>0</td>\n",
       "      <td>1</td>\n",
       "    </tr>\n",
       "    <tr>\n",
       "      <th>2</th>\n",
       "      <td>89.0</td>\n",
       "      <td>0.00</td>\n",
       "      <td>194.1</td>\n",
       "      <td>198.5</td>\n",
       "      <td>127</td>\n",
       "      <td>4</td>\n",
       "      <td>0</td>\n",
       "      <td>0</td>\n",
       "      <td>2</td>\n",
       "      <td>2</td>\n",
       "      <td>4</td>\n",
       "      <td>1</td>\n",
       "      <td>0</td>\n",
       "      <td>1</td>\n",
       "    </tr>\n",
       "    <tr>\n",
       "      <th>3</th>\n",
       "      <td>56.5</td>\n",
       "      <td>0.00</td>\n",
       "      <td>248.0</td>\n",
       "      <td>42.9</td>\n",
       "      <td>95</td>\n",
       "      <td>0</td>\n",
       "      <td>0</td>\n",
       "      <td>0</td>\n",
       "      <td>2</td>\n",
       "      <td>1</td>\n",
       "      <td>3</td>\n",
       "      <td>1</td>\n",
       "      <td>0</td>\n",
       "      <td>1</td>\n",
       "    </tr>\n",
       "    <tr>\n",
       "      <th>4</th>\n",
       "      <td>66.0</td>\n",
       "      <td>0.00</td>\n",
       "      <td>175.4</td>\n",
       "      <td>107.3</td>\n",
       "      <td>77</td>\n",
       "      <td>2</td>\n",
       "      <td>0</td>\n",
       "      <td>0</td>\n",
       "      <td>1</td>\n",
       "      <td>2</td>\n",
       "      <td>3</td>\n",
       "      <td>0</td>\n",
       "      <td>0</td>\n",
       "      <td>1</td>\n",
       "    </tr>\n",
       "  </tbody>\n",
       "</table>\n",
       "</div>"
      ],
      "text/plain": [
       "   last_purchase  max_discount  shoe_spend  apparell_spend  acc_spend  \\\n",
       "0           57.5          0.25       330.1           167.4        100   \n",
       "1           84.0          0.00       231.7           118.3        101   \n",
       "2           89.0          0.00       194.1           198.5        127   \n",
       "3           56.5          0.00       248.0            42.9         95   \n",
       "4           66.0          0.00       175.4           107.3         77   \n",
       "\n",
       "   custserv_calls  acc_purchasers  promo_purchaser  shoe_orders  \\\n",
       "0               1               0                1            3   \n",
       "1               3               1                0            2   \n",
       "2               4               0                0            2   \n",
       "3               0               0                0            2   \n",
       "4               2               0                0            1   \n",
       "\n",
       "   apparel_orders  acc_orders  gender  ecommShopper  bhShopper  \n",
       "0               2           3       1             1          1  \n",
       "1               2           3       1             0          1  \n",
       "2               2           4       1             0          1  \n",
       "3               1           3       1             0          1  \n",
       "4               2           3       0             0          1  "
      ]
     },
     "execution_count": 78,
     "metadata": {},
     "output_type": "execute_result"
    }
   ],
   "source": [
    "df_test1.head()"
   ]
  },
  {
   "cell_type": "code",
   "execution_count": 86,
   "metadata": {},
   "outputs": [],
   "source": [
    "#test_csv_final = pd.read_csv('test.csv')"
   ]
  },
  {
   "cell_type": "code",
   "execution_count": 87,
   "metadata": {},
   "outputs": [],
   "source": [
    "#test_csv_final.head()"
   ]
  },
  {
   "cell_type": "code",
   "execution_count": 88,
   "metadata": {},
   "outputs": [],
   "source": [
    "#test_csv_final = test_csv_final.assign(Churn=y_pred_test)"
   ]
  },
  {
   "cell_type": "code",
   "execution_count": 89,
   "metadata": {},
   "outputs": [],
   "source": [
    "#test_csv_final.head()"
   ]
  },
  {
   "cell_type": "code",
   "execution_count": 90,
   "metadata": {},
   "outputs": [],
   "source": [
    "#forgot to add back the state, area code, and phone columns\n",
    "RF_pred_final = pd.read_csv('test.csv')"
   ]
  },
  {
   "cell_type": "code",
   "execution_count": 91,
   "metadata": {},
   "outputs": [
    {
     "data": {
      "text/html": [
       "<div>\n",
       "<style scoped>\n",
       "    .dataframe tbody tr th:only-of-type {\n",
       "        vertical-align: middle;\n",
       "    }\n",
       "\n",
       "    .dataframe tbody tr th {\n",
       "        vertical-align: top;\n",
       "    }\n",
       "\n",
       "    .dataframe thead th {\n",
       "        text-align: right;\n",
       "    }\n",
       "</style>\n",
       "<table border=\"1\" class=\"dataframe\">\n",
       "  <thead>\n",
       "    <tr style=\"text-align: right;\">\n",
       "      <th></th>\n",
       "      <th>last_purchase</th>\n",
       "      <th>max_discount</th>\n",
       "      <th>shoe_spend</th>\n",
       "      <th>apparell_spend</th>\n",
       "      <th>acc_spend</th>\n",
       "      <th>custserv_calls</th>\n",
       "      <th>acc_purchasers</th>\n",
       "      <th>promo_purchaser</th>\n",
       "      <th>shoe_orders</th>\n",
       "      <th>apparel_orders</th>\n",
       "      <th>acc_orders</th>\n",
       "      <th>gender</th>\n",
       "      <th>ecommShopper</th>\n",
       "      <th>bhShopper</th>\n",
       "      <th>state</th>\n",
       "      <th>area_code</th>\n",
       "      <th>phone</th>\n",
       "    </tr>\n",
       "  </thead>\n",
       "  <tbody>\n",
       "    <tr>\n",
       "      <th>0</th>\n",
       "      <td>57.5</td>\n",
       "      <td>0.25</td>\n",
       "      <td>330.1</td>\n",
       "      <td>167.4</td>\n",
       "      <td>100</td>\n",
       "      <td>1</td>\n",
       "      <td>0</td>\n",
       "      <td>1</td>\n",
       "      <td>3</td>\n",
       "      <td>2</td>\n",
       "      <td>3</td>\n",
       "      <td>Male</td>\n",
       "      <td>True</td>\n",
       "      <td>True</td>\n",
       "      <td>KS</td>\n",
       "      <td>415</td>\n",
       "      <td>382-4657</td>\n",
       "    </tr>\n",
       "    <tr>\n",
       "      <th>1</th>\n",
       "      <td>84.0</td>\n",
       "      <td>0.00</td>\n",
       "      <td>231.7</td>\n",
       "      <td>118.3</td>\n",
       "      <td>101</td>\n",
       "      <td>3</td>\n",
       "      <td>1</td>\n",
       "      <td>0</td>\n",
       "      <td>2</td>\n",
       "      <td>2</td>\n",
       "      <td>3</td>\n",
       "      <td>Male</td>\n",
       "      <td>False</td>\n",
       "      <td>True</td>\n",
       "      <td>OK</td>\n",
       "      <td>415</td>\n",
       "      <td>330-6626</td>\n",
       "    </tr>\n",
       "    <tr>\n",
       "      <th>2</th>\n",
       "      <td>89.0</td>\n",
       "      <td>0.00</td>\n",
       "      <td>194.1</td>\n",
       "      <td>198.5</td>\n",
       "      <td>127</td>\n",
       "      <td>4</td>\n",
       "      <td>0</td>\n",
       "      <td>0</td>\n",
       "      <td>2</td>\n",
       "      <td>2</td>\n",
       "      <td>4</td>\n",
       "      <td>Male</td>\n",
       "      <td>False</td>\n",
       "      <td>True</td>\n",
       "      <td>IN</td>\n",
       "      <td>415</td>\n",
       "      <td>329-6603</td>\n",
       "    </tr>\n",
       "    <tr>\n",
       "      <th>3</th>\n",
       "      <td>56.5</td>\n",
       "      <td>0.00</td>\n",
       "      <td>248.0</td>\n",
       "      <td>42.9</td>\n",
       "      <td>95</td>\n",
       "      <td>0</td>\n",
       "      <td>0</td>\n",
       "      <td>0</td>\n",
       "      <td>2</td>\n",
       "      <td>1</td>\n",
       "      <td>3</td>\n",
       "      <td>Male</td>\n",
       "      <td>False</td>\n",
       "      <td>True</td>\n",
       "      <td>AZ</td>\n",
       "      <td>415</td>\n",
       "      <td>358-1958</td>\n",
       "    </tr>\n",
       "    <tr>\n",
       "      <th>4</th>\n",
       "      <td>66.0</td>\n",
       "      <td>0.00</td>\n",
       "      <td>175.4</td>\n",
       "      <td>107.3</td>\n",
       "      <td>77</td>\n",
       "      <td>2</td>\n",
       "      <td>0</td>\n",
       "      <td>0</td>\n",
       "      <td>1</td>\n",
       "      <td>2</td>\n",
       "      <td>3</td>\n",
       "      <td>Female</td>\n",
       "      <td>False</td>\n",
       "      <td>True</td>\n",
       "      <td>SC</td>\n",
       "      <td>415</td>\n",
       "      <td>350-2565</td>\n",
       "    </tr>\n",
       "  </tbody>\n",
       "</table>\n",
       "</div>"
      ],
      "text/plain": [
       "   last_purchase  max_discount  shoe_spend  apparell_spend  acc_spend  \\\n",
       "0           57.5          0.25       330.1           167.4        100   \n",
       "1           84.0          0.00       231.7           118.3        101   \n",
       "2           89.0          0.00       194.1           198.5        127   \n",
       "3           56.5          0.00       248.0            42.9         95   \n",
       "4           66.0          0.00       175.4           107.3         77   \n",
       "\n",
       "   custserv_calls  acc_purchasers  promo_purchaser  shoe_orders  \\\n",
       "0               1               0                1            3   \n",
       "1               3               1                0            2   \n",
       "2               4               0                0            2   \n",
       "3               0               0                0            2   \n",
       "4               2               0                0            1   \n",
       "\n",
       "   apparel_orders  acc_orders  gender  ecommShopper  bhShopper state  \\\n",
       "0               2           3    Male          True       True    KS   \n",
       "1               2           3    Male         False       True    OK   \n",
       "2               2           4    Male         False       True    IN   \n",
       "3               1           3    Male         False       True    AZ   \n",
       "4               2           3  Female         False       True    SC   \n",
       "\n",
       "   area_code     phone  \n",
       "0        415  382-4657  \n",
       "1        415  330-6626  \n",
       "2        415  329-6603  \n",
       "3        415  358-1958  \n",
       "4        415  350-2565  "
      ]
     },
     "execution_count": 91,
     "metadata": {},
     "output_type": "execute_result"
    }
   ],
   "source": [
    "RF_pred_final.head()"
   ]
  },
  {
   "cell_type": "code",
   "execution_count": 92,
   "metadata": {},
   "outputs": [],
   "source": [
    "RF_pred_final = RF_pred_final.assign(Churn=y_pred_test)"
   ]
  },
  {
   "cell_type": "code",
   "execution_count": 93,
   "metadata": {},
   "outputs": [
    {
     "data": {
      "text/html": [
       "<div>\n",
       "<style scoped>\n",
       "    .dataframe tbody tr th:only-of-type {\n",
       "        vertical-align: middle;\n",
       "    }\n",
       "\n",
       "    .dataframe tbody tr th {\n",
       "        vertical-align: top;\n",
       "    }\n",
       "\n",
       "    .dataframe thead th {\n",
       "        text-align: right;\n",
       "    }\n",
       "</style>\n",
       "<table border=\"1\" class=\"dataframe\">\n",
       "  <thead>\n",
       "    <tr style=\"text-align: right;\">\n",
       "      <th></th>\n",
       "      <th>last_purchase</th>\n",
       "      <th>max_discount</th>\n",
       "      <th>shoe_spend</th>\n",
       "      <th>apparell_spend</th>\n",
       "      <th>acc_spend</th>\n",
       "      <th>custserv_calls</th>\n",
       "      <th>acc_purchasers</th>\n",
       "      <th>promo_purchaser</th>\n",
       "      <th>shoe_orders</th>\n",
       "      <th>apparel_orders</th>\n",
       "      <th>acc_orders</th>\n",
       "      <th>gender</th>\n",
       "      <th>ecommShopper</th>\n",
       "      <th>bhShopper</th>\n",
       "      <th>state</th>\n",
       "      <th>area_code</th>\n",
       "      <th>phone</th>\n",
       "      <th>Churn</th>\n",
       "    </tr>\n",
       "  </thead>\n",
       "  <tbody>\n",
       "    <tr>\n",
       "      <th>0</th>\n",
       "      <td>57.5</td>\n",
       "      <td>0.25</td>\n",
       "      <td>330.1</td>\n",
       "      <td>167.4</td>\n",
       "      <td>100</td>\n",
       "      <td>1</td>\n",
       "      <td>0</td>\n",
       "      <td>1</td>\n",
       "      <td>3</td>\n",
       "      <td>2</td>\n",
       "      <td>3</td>\n",
       "      <td>Male</td>\n",
       "      <td>True</td>\n",
       "      <td>True</td>\n",
       "      <td>KS</td>\n",
       "      <td>415</td>\n",
       "      <td>382-4657</td>\n",
       "      <td>0</td>\n",
       "    </tr>\n",
       "    <tr>\n",
       "      <th>1</th>\n",
       "      <td>84.0</td>\n",
       "      <td>0.00</td>\n",
       "      <td>231.7</td>\n",
       "      <td>118.3</td>\n",
       "      <td>101</td>\n",
       "      <td>3</td>\n",
       "      <td>1</td>\n",
       "      <td>0</td>\n",
       "      <td>2</td>\n",
       "      <td>2</td>\n",
       "      <td>3</td>\n",
       "      <td>Male</td>\n",
       "      <td>False</td>\n",
       "      <td>True</td>\n",
       "      <td>OK</td>\n",
       "      <td>415</td>\n",
       "      <td>330-6626</td>\n",
       "      <td>0</td>\n",
       "    </tr>\n",
       "    <tr>\n",
       "      <th>2</th>\n",
       "      <td>89.0</td>\n",
       "      <td>0.00</td>\n",
       "      <td>194.1</td>\n",
       "      <td>198.5</td>\n",
       "      <td>127</td>\n",
       "      <td>4</td>\n",
       "      <td>0</td>\n",
       "      <td>0</td>\n",
       "      <td>2</td>\n",
       "      <td>2</td>\n",
       "      <td>4</td>\n",
       "      <td>Male</td>\n",
       "      <td>False</td>\n",
       "      <td>True</td>\n",
       "      <td>IN</td>\n",
       "      <td>415</td>\n",
       "      <td>329-6603</td>\n",
       "      <td>1</td>\n",
       "    </tr>\n",
       "    <tr>\n",
       "      <th>3</th>\n",
       "      <td>56.5</td>\n",
       "      <td>0.00</td>\n",
       "      <td>248.0</td>\n",
       "      <td>42.9</td>\n",
       "      <td>95</td>\n",
       "      <td>0</td>\n",
       "      <td>0</td>\n",
       "      <td>0</td>\n",
       "      <td>2</td>\n",
       "      <td>1</td>\n",
       "      <td>3</td>\n",
       "      <td>Male</td>\n",
       "      <td>False</td>\n",
       "      <td>True</td>\n",
       "      <td>AZ</td>\n",
       "      <td>415</td>\n",
       "      <td>358-1958</td>\n",
       "      <td>0</td>\n",
       "    </tr>\n",
       "    <tr>\n",
       "      <th>4</th>\n",
       "      <td>66.0</td>\n",
       "      <td>0.00</td>\n",
       "      <td>175.4</td>\n",
       "      <td>107.3</td>\n",
       "      <td>77</td>\n",
       "      <td>2</td>\n",
       "      <td>0</td>\n",
       "      <td>0</td>\n",
       "      <td>1</td>\n",
       "      <td>2</td>\n",
       "      <td>3</td>\n",
       "      <td>Female</td>\n",
       "      <td>False</td>\n",
       "      <td>True</td>\n",
       "      <td>SC</td>\n",
       "      <td>415</td>\n",
       "      <td>350-2565</td>\n",
       "      <td>0</td>\n",
       "    </tr>\n",
       "  </tbody>\n",
       "</table>\n",
       "</div>"
      ],
      "text/plain": [
       "   last_purchase  max_discount  shoe_spend  apparell_spend  acc_spend  \\\n",
       "0           57.5          0.25       330.1           167.4        100   \n",
       "1           84.0          0.00       231.7           118.3        101   \n",
       "2           89.0          0.00       194.1           198.5        127   \n",
       "3           56.5          0.00       248.0            42.9         95   \n",
       "4           66.0          0.00       175.4           107.3         77   \n",
       "\n",
       "   custserv_calls  acc_purchasers  promo_purchaser  shoe_orders  \\\n",
       "0               1               0                1            3   \n",
       "1               3               1                0            2   \n",
       "2               4               0                0            2   \n",
       "3               0               0                0            2   \n",
       "4               2               0                0            1   \n",
       "\n",
       "   apparel_orders  acc_orders  gender  ecommShopper  bhShopper state  \\\n",
       "0               2           3    Male          True       True    KS   \n",
       "1               2           3    Male         False       True    OK   \n",
       "2               2           4    Male         False       True    IN   \n",
       "3               1           3    Male         False       True    AZ   \n",
       "4               2           3  Female         False       True    SC   \n",
       "\n",
       "   area_code     phone  Churn  \n",
       "0        415  382-4657      0  \n",
       "1        415  330-6626      0  \n",
       "2        415  329-6603      1  \n",
       "3        415  358-1958      0  \n",
       "4        415  350-2565      0  "
      ]
     },
     "execution_count": 93,
     "metadata": {},
     "output_type": "execute_result"
    }
   ],
   "source": [
    "RF_pred_final.head()"
   ]
  },
  {
   "cell_type": "code",
   "execution_count": 94,
   "metadata": {},
   "outputs": [],
   "source": [
    "df_test_RF_pred.to_csv('RF_pred_final.csv')"
   ]
  },
  {
   "cell_type": "code",
   "execution_count": 96,
   "metadata": {},
   "outputs": [],
   "source": [
    "RF_pred_final.to_csv('UA_final_pred.csv')"
   ]
  },
  {
   "cell_type": "code",
   "execution_count": 97,
   "metadata": {},
   "outputs": [
    {
     "data": {
      "text/plain": [
       "'/Users/kylecamlic/Documents'"
      ]
     },
     "execution_count": 97,
     "metadata": {},
     "output_type": "execute_result"
    }
   ],
   "source": [
    "%pwd"
   ]
  },
  {
   "cell_type": "code",
   "execution_count": null,
   "metadata": {},
   "outputs": [],
   "source": []
  }
 ],
 "metadata": {
  "kernelspec": {
   "display_name": "Python 3",
   "language": "python",
   "name": "python3"
  },
  "language_info": {
   "codemirror_mode": {
    "name": "ipython",
    "version": 3
   },
   "file_extension": ".py",
   "mimetype": "text/x-python",
   "name": "python",
   "nbconvert_exporter": "python",
   "pygments_lexer": "ipython3",
   "version": "3.8.5"
  }
 },
 "nbformat": 4,
 "nbformat_minor": 4
}
